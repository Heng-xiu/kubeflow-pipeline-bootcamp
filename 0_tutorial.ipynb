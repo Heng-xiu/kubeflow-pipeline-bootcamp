{
 "cells": [
  {
   "cell_type": "markdown",
   "id": "20018621-c22c-491e-adc7-422ec87efbb8",
   "metadata": {},
   "source": [
    "# LightBGM 示範用"
   ]
  },
  {
   "cell_type": "code",
   "execution_count": 13,
   "id": "1029c58a-04a3-4d4c-93e7-73236747f83d",
   "metadata": {},
   "outputs": [],
   "source": [
    "!pip install --quiet lightgbm"
   ]
  },
  {
   "cell_type": "code",
   "execution_count": 14,
   "id": "81e7bff7-d69b-410e-80da-b9b5dc5be556",
   "metadata": {},
   "outputs": [],
   "source": [
    "# iris_lightgbm_native.py\n",
    "import pandas as pd\n",
    "import numpy as np\n",
    "import lightgbm as lgb\n",
    "from sklearn.model_selection import train_test_split\n",
    "from sklearn.metrics import accuracy_score, classification_report"
   ]
  },
  {
   "cell_type": "markdown",
   "id": "a2cbe259-59a6-44f0-b50e-fcc289f86123",
   "metadata": {},
   "source": [
    "## 0. 讀取資料"
   ]
  },
  {
   "cell_type": "code",
   "execution_count": 45,
   "id": "3b44d320-cfc9-4508-b346-b18f55e9fe78",
   "metadata": {},
   "outputs": [],
   "source": [
    "data = pd.read_csv(\"./0_iris.csv\").dropna()"
   ]
  },
  {
   "cell_type": "markdown",
   "id": "f52e41e0-f879-4111-b6e1-253a85b1431f",
   "metadata": {},
   "source": [
    "### 0.1 模組化(重構成為函數，有詳細輸入輸出以及註解"
   ]
  },
  {
   "cell_type": "code",
   "execution_count": 37,
   "id": "50f2d0f0-c7b5-4750-a153-23721c778f74",
   "metadata": {},
   "outputs": [],
   "source": [
    "def load_and_preprocess_data(data_path: str) -> pd.DataFrame:\n",
    "    \"\"\"Loads and preprocesses the raw data.\"\"\"\n",
    "    data = pd.read_csv(data_path)\n",
    "    data.dropna(inplace=True)\n",
    "    return data"
   ]
  },
  {
   "cell_type": "markdown",
   "id": "b08a8fc8-4e31-4ad2-9d4e-15de945a3b2c",
   "metadata": {},
   "source": [
    "### 0.2 封裝成 component 元件"
   ]
  },
  {
   "cell_type": "code",
   "execution_count": 41,
   "id": "c2aedf7f-8f81-495e-ae6c-32ccf2840a6c",
   "metadata": {},
   "outputs": [],
   "source": [
    "from kfp.dsl import component, Output, Dataset\n",
    "import pandas as pd, pyarrow.parquet as pq, pyarrow as pa\n",
    "\n",
    "@component(base_image=\"python:3.9\", packages_to_install=[\"pandas==2.0.3\", \"pyarrow==15.0.2\"])\n",
    "def load_data(data_path: str, cleaned: Output[Dataset]):\n",
    "    import pandas as pd, pyarrow.parquet as pq, pyarrow as pa\n",
    "    df = pd.read_csv(data_path).dropna()\n",
    "    pq.write_table(pa.Table.from_pandas(df), cleaned.path)"
   ]
  },
  {
   "cell_type": "markdown",
   "id": "e75760d5-331e-4c66-8a4c-f75d7fa093bf",
   "metadata": {},
   "source": [
    "## 1. 讀取資料並清理"
   ]
  },
  {
   "cell_type": "code",
   "execution_count": 46,
   "id": "3ec10853-43e9-49f4-9cd4-cc3ca48f3f9c",
   "metadata": {},
   "outputs": [],
   "source": [
    "# LightGBM 原生 Dataset 需要數字 label\n",
    "label_encoded = data[\"Species\"].astype(\"category\").cat.codes\n",
    "features = data[[\"Sepal.Length\", \"Sepal.Width\", \"Petal.Length\", \"Petal.Width\"]]"
   ]
  },
  {
   "cell_type": "markdown",
   "id": "abd4dda9-77b7-4e1f-8ceb-3930a0ee683b",
   "metadata": {},
   "source": [
    "## 2. 切分訓練 / 測試集"
   ]
  },
  {
   "cell_type": "code",
   "execution_count": 47,
   "id": "afa3cf13-9490-42c9-a642-57e6be28eb15",
   "metadata": {},
   "outputs": [],
   "source": [
    "X_train, X_test, y_train, y_test = train_test_split(\n",
    "    features, label_encoded,\n",
    "    test_size=0.2,\n",
    "    stratify=label_encoded,\n",
    "    random_state=42\n",
    ")"
   ]
  },
  {
   "cell_type": "markdown",
   "id": "0f8e9047-4416-4a7c-9c87-423a38ab149a",
   "metadata": {},
   "source": [
    "## 3. 建立 LightGBM Dataset"
   ]
  },
  {
   "cell_type": "code",
   "execution_count": 48,
   "id": "f7f8f664-38da-4944-9041-46046eccd7eb",
   "metadata": {},
   "outputs": [],
   "source": [
    "train_ds = lgb.Dataset(X_train, label=y_train)\n",
    "valid_ds = lgb.Dataset(X_test, label=y_test, reference=train_ds)"
   ]
  },
  {
   "cell_type": "markdown",
   "id": "a57a2a65-4807-431e-bf1b-eacfd6d05f9e",
   "metadata": {},
   "source": [
    "## 4. 設定訓練參數"
   ]
  },
  {
   "cell_type": "code",
   "execution_count": 49,
   "id": "f6ac48bb-eae2-49f3-91bf-1e9055fcdcf3",
   "metadata": {},
   "outputs": [],
   "source": [
    "params = {\n",
    "    \"objective\": \"multiclass\",\n",
    "    \"num_class\": 3,                # Iris 有 3 個類別\n",
    "    \"metric\": \"multi_logloss\",     # 也可加入 \"multi_error\"\n",
    "    \"learning_rate\": 0.05,\n",
    "    \"num_leaves\": 31,              # 預設 31，影響模型複雜度\n",
    "    \"feature_fraction\": 0.9,       # 每棵樹隨機選 90% 特徵\n",
    "    \"bagging_fraction\": 0.8,       # 每棵樹隨機選 80% 樣本\n",
    "    \"bagging_freq\": 1,             # 每次建樹都 bagging\n",
    "    \"verbosity\": -1                # 關閉額外訊息\n",
    "}"
   ]
  },
  {
   "cell_type": "markdown",
   "id": "89fe8883-fe24-475b-9755-ee8e76e60b30",
   "metadata": {},
   "source": [
    "## 5. 開始訓練"
   ]
  },
  {
   "cell_type": "code",
   "execution_count": 50,
   "id": "57a96c10-ccbb-4702-8df8-fb263b2bdce9",
   "metadata": {},
   "outputs": [
    {
     "name": "stdout",
     "output_type": "stream",
     "text": [
      "Training...\n",
      "Training until validation scores don't improve for 50 rounds\n",
      "[20]\tvalid's multi_logloss: 0.357382\n",
      "[40]\tvalid's multi_logloss: 0.233752\n",
      "[60]\tvalid's multi_logloss: 0.22769\n",
      "[80]\tvalid's multi_logloss: 0.270272\n",
      "[100]\tvalid's multi_logloss: 0.322489\n",
      "Early stopping, best iteration is:\n",
      "[52]\tvalid's multi_logloss: 0.220241\n"
     ]
    }
   ],
   "source": [
    "print(\"Training...\")\n",
    "gbm = lgb.train(\n",
    "    params,\n",
    "    train_ds,\n",
    "    num_boost_round=500,           # 最多 500 棵樹\n",
    "    valid_sets=[valid_ds],\n",
    "    valid_names=[\"valid\"],\n",
    "    # verbose_eval=20,                # 每 20 棵樹列印一次 loss\n",
    "    # early_stopping_rounds=50,      # 50 棵樹沒進步就停\n",
    "    callbacks=[\n",
    "        lgb.early_stopping(stopping_rounds=50),\n",
    "        lgb.log_evaluation(period=20)\n",
    "    ]\n",
    ")"
   ]
  },
  {
   "cell_type": "markdown",
   "id": "4c7e94b8-077d-40d2-88e3-f20b2b6b493d",
   "metadata": {},
   "source": [
    "## 6. 預測與評估"
   ]
  },
  {
   "cell_type": "code",
   "execution_count": 51,
   "id": "e5825d3d-ba67-4dc6-bd79-2f240d8a3188",
   "metadata": {},
   "outputs": [
    {
     "name": "stdout",
     "output_type": "stream",
     "text": [
      "\n",
      "=== Evaluation ===\n",
      "Accuracy : 0.9666666666666667\n",
      "              precision    recall  f1-score   support\n",
      "\n",
      "           0       1.00      1.00      1.00        10\n",
      "           1       1.00      0.90      0.95        10\n",
      "           2       0.91      1.00      0.95        10\n",
      "\n",
      "    accuracy                           0.97        30\n",
      "   macro avg       0.97      0.97      0.97        30\n",
      "weighted avg       0.97      0.97      0.97        30\n",
      "\n"
     ]
    }
   ],
   "source": [
    "y_pred = gbm.predict(X_test, num_iteration=gbm.best_iteration)\n",
    "y_pred_label = np.argmax(y_pred, axis=1)\n",
    "\n",
    "print(\"\\n=== Evaluation ===\")\n",
    "print(\"Accuracy :\", accuracy_score(y_test, y_pred_label))\n",
    "print(classification_report(y_test, y_pred_label))"
   ]
  },
  {
   "cell_type": "markdown",
   "id": "66302a41-75e5-4f92-8cc5-f8640918bfd4",
   "metadata": {},
   "source": [
    "## 7. 顯示特徵重要度"
   ]
  },
  {
   "cell_type": "code",
   "execution_count": 52,
   "id": "c3d1a840-9c5a-45cf-8e75-e7c00dfd8ac0",
   "metadata": {},
   "outputs": [
    {
     "data": {
      "image/png": "[encoded data removed]",
      "text/plain": [
       "<Figure size 600x400 with 1 Axes>"
      ]
     },
     "metadata": {},
     "output_type": "display_data"
    }
   ],
   "source": [
    "import matplotlib.pyplot as plt\n",
    "\n",
    "importance = gbm.feature_importance(importance_type=\"gain\")\n",
    "indices = np.argsort(importance)[::-1]\n",
    "feature_names = features.columns[indices]\n",
    "\n",
    "plt.figure(figsize=(6, 4))\n",
    "plt.barh(feature_names, importance[indices])\n",
    "plt.xlabel(\"Gain\")\n",
    "plt.title(\"LightGBM Feature Importance\")\n",
    "plt.gca().invert_yaxis()\n",
    "plt.tight_layout()\n",
    "plt.show()"
   ]
  },
  {
   "cell_type": "code",
   "execution_count": null,
   "id": "97c3693c-0645-4153-9940-b31d9f665061",
   "metadata": {},
   "outputs": [],
   "source": []
  }
 ],
 "metadata": {
  "kernelspec": {
   "display_name": "Python 3 (ipykernel)",
   "language": "python",
   "name": "python3"
  },
  "language_info": {
   "codemirror_mode": {
    "name": "ipython",
    "version": 3
   },
   "file_extension": ".py",
   "mimetype": "text/x-python",
   "name": "python",
   "nbconvert_exporter": "python",
   "pygments_lexer": "ipython3",
   "version": "3.11.11"
  }
 },
 "nbformat": 4,
 "nbformat_minor": 5
}
