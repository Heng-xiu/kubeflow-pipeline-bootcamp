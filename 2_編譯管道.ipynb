{
 "cells": [
  {
   "cell_type": "markdown",
   "id": "d4e70d80-b4cd-4350-918e-d1b0d7569c6e",
   "metadata": {},
   "source": [
    "# 如何執行"
   ]
  },
  {
   "cell_type": "markdown",
   "id": "7f8a2724-00ee-42a0-8ef9-fb68e4eb20a4",
   "metadata": {},
   "source": [
    "## 步驟ㄧ、先編譯"
   ]
  },
  {
   "cell_type": "code",
   "execution_count": 9,
   "id": "1a40a49c-7fba-44a2-932b-affec2f5ad00",
   "metadata": {},
   "outputs": [
    {
     "name": "stdout",
     "output_type": "stream",
     "text": [
      "✅ 已輸出 iris_lgbm_pipeline.yaml，可上傳至 Kubeflow UI 或用 KFP Client 執行。\n"
     ]
    }
   ],
   "source": [
    "!python \"1_0_iris_lgbm_pipeline.py\""
   ]
  },
  {
   "cell_type": "markdown",
   "id": "8032812b-6d7a-4716-8f88-320161cf1d76",
   "metadata": {},
   "source": [
    "可以在當前路徑看到，或是點開左側側邊欄"
   ]
  },
  {
   "cell_type": "code",
   "execution_count": 11,
   "id": "47d6e1aa-eca4-4161-80af-d6733f70d93b",
   "metadata": {},
   "outputs": [
    {
     "name": "stdout",
     "output_type": "stream",
     "text": [
      "0_iris.csv\t  1_iris_lgbm_pipeline.py  iris_lgbm_pipeline.yaml\n",
      "0_tutorial.ipynb  2_編譯管道.ipynb\n"
     ]
    }
   ],
   "source": [
    "!ls"
   ]
  },
  {
   "cell_type": "markdown",
   "id": "76661112-27f8-4b58-9711-a4733ff556f1",
   "metadata": {},
   "source": [
    "## 步驟二、透過 kubeflow UI 上傳"
   ]
  },
  {
   "cell_type": "markdown",
   "id": "e67845c0-0ed2-4dac-b34f-1804627bc549",
   "metadata": {},
   "source": []
  },
  {
   "cell_type": "markdown",
   "id": "f1e2f57d-c730-4f14-9998-b1bc7d53f0a7",
   "metadata": {},
   "source": [
    "## （可選）步驟二、透過程式碼上傳"
   ]
  },
  {
   "cell_type": "code",
   "execution_count": null,
   "id": "328706e6-9f91-4529-980f-5351e991a33d",
   "metadata": {},
   "outputs": [],
   "source": [
    "import kfp\n",
    "client = kfp.Client(host=\"http://<KF_HOST>/pipeline\")   # or kfp.LocalClient()\n",
    "client.create_run_from_pipeline_func(\n",
    "    iris_lgbm_pipeline,\n",
    "    arguments={\"iris_csv_path\": \"https://raw.githubusercontent.com/uiuc-cse/data-fa14/gh-pages/data/iris.csv\"}\n",
    ")"
   ]
  },
  {
   "cell_type": "markdown",
   "id": "d6638947-e6b8-4fe6-805e-c9af56dd9f9c",
   "metadata": {},
   "source": [
    "## 步驟三、更新新版 kubeflow yaml"
   ]
  },
  {
   "cell_type": "code",
   "execution_count": 26,
   "id": "679a45cf-692e-435c-a304-67bad7ecdee3",
   "metadata": {},
   "outputs": [
    {
     "name": "stdout",
     "output_type": "stream",
     "text": [
      "✅ 已輸出 iris_lgbm_pipeline_v2.yaml，可上傳至 Kubeflow UI 或用 KFP Client 執行。\n"
     ]
    }
   ],
   "source": [
    "!python \"1_1_iris_lgbm_pipeline.py\""
   ]
  },
  {
   "cell_type": "code",
   "execution_count": null,
   "id": "1ce1b01c-f86f-43e3-b222-e59a1b0a0b71",
   "metadata": {},
   "outputs": [],
   "source": [
    "client.upload_pipeline_version(\n",
    "    pipeline_package_path=\"iris_lgbm_pipeline.yaml\",\n",
    "    pipeline_version_name=\"with_pyarrow_v2\",\n",
    "    pipeline_id=<your_pipeline_id>\n",
    ")"
   ]
  },
  {
   "cell_type": "markdown",
   "id": "20b07880-3c0a-4392-a624-b8d73f75522e",
   "metadata": {},
   "source": [
    "## 步驟四、添加 MLFlow"
   ]
  },
  {
   "cell_type": "code",
   "execution_count": 34,
   "id": "77cd6f50-ea03-4a31-bc15-46ba1f3303c4",
   "metadata": {},
   "outputs": [
    {
     "name": "stdout",
     "output_type": "stream",
     "text": [
      "✅ 已輸出 iris_lgbm_pipeline_v3.yaml，可上傳至 Kubeflow UI 或用 KFP Client 執行。\n"
     ]
    }
   ],
   "source": [
    "!python \"1_2_iris_lgbm_pipeline.py\""
   ]
  },
  {
   "cell_type": "code",
   "execution_count": null,
   "id": "71a973fc-c745-4a7e-90d3-814a32f8f24a",
   "metadata": {},
   "outputs": [],
   "source": []
  }
 ],
 "metadata": {
  "kernelspec": {
   "display_name": "Python 3 (ipykernel)",
   "language": "python",
   "name": "python3"
  },
  "language_info": {
   "codemirror_mode": {
    "name": "ipython",
    "version": 3
   },
   "file_extension": ".py",
   "mimetype": "text/x-python",
   "name": "python",
   "nbconvert_exporter": "python",
   "pygments_lexer": "ipython3",
   "version": "3.11.11"
  }
 },
 "nbformat": 4,
 "nbformat_minor": 5
}
